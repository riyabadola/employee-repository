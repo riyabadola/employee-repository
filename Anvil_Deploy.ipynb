{
  "nbformat": 4,
  "nbformat_minor": 0,
  "metadata": {
    "colab": {
      "provenance": [],
      "include_colab_link": true
    },
    "kernelspec": {
      "name": "python3",
      "display_name": "Python 3"
    }
  },
  "cells": [
    {
      "cell_type": "markdown",
      "metadata": {
        "id": "view-in-github",
        "colab_type": "text"
      },
      "source": [
        "<a href=\"https://colab.research.google.com/github/riyabadola/employee-repository/blob/main/Anvil_Deploy.ipynb\" target=\"_parent\"><img src=\"https://colab.research.google.com/assets/colab-badge.svg\" alt=\"Open In Colab\"/></a>"
      ]
    },
    {
      "cell_type": "code",
      "metadata": {
        "id": "5ek2dcN7Krtq",
        "colab": {
          "base_uri": "https://localhost:8080/",
          "height": 269
        },
        "outputId": "791ab886-77c3-412f-b92a-e9fb4ba4f333"
      },
      "source": [
        "pip install anvil-uplink"
      ],
      "execution_count": 1,
      "outputs": [
        {
          "output_type": "stream",
          "name": "stdout",
          "text": [
            "Requirement already satisfied: anvil-uplink in /usr/local/lib/python3.10/dist-packages (0.5.1)\n",
            "Collecting argparse (from anvil-uplink)\n",
            "  Using cached argparse-1.4.0-py2.py3-none-any.whl.metadata (2.8 kB)\n",
            "Requirement already satisfied: future in /usr/local/lib/python3.10/dist-packages (from anvil-uplink) (1.0.0)\n",
            "Requirement already satisfied: six in /usr/local/lib/python3.10/dist-packages (from anvil-uplink) (1.16.0)\n",
            "Requirement already satisfied: ws4py-sslupdate in /usr/local/lib/python3.10/dist-packages (from anvil-uplink) (0.5.1b0)\n",
            "Using cached argparse-1.4.0-py2.py3-none-any.whl (23 kB)\n",
            "Installing collected packages: argparse\n",
            "Successfully installed argparse-1.4.0\n"
          ]
        },
        {
          "output_type": "display_data",
          "data": {
            "application/vnd.colab-display-data+json": {
              "pip_warning": {
                "packages": [
                  "argparse"
                ]
              },
              "id": "2e2dd65c38bd488e98d46607920002ab"
            }
          },
          "metadata": {}
        }
      ]
    },
    {
      "cell_type": "code",
      "metadata": {
        "id": "Wd7PA2RsNimJ"
      },
      "source": [
        "import pickle\n",
        "with open('riya_model_pickle_3','rb') as file:\n",
        "    riya_model_3= pickle.load(file)"
      ],
      "execution_count": 2,
      "outputs": []
    },
    {
      "cell_type": "code",
      "metadata": {
        "id": "hCtNPRVqKyBO",
        "colab": {
          "base_uri": "https://localhost:8080/"
        },
        "outputId": "4bd519fc-b60f-4d88-e5eb-01a9807e1e5b"
      },
      "source": [
        "import anvil.server\n",
        "\n",
        "anvil.server.connect(\"KWOQVHGDRYPKCEI3C2YZYVUH-5MBLKQSGXCIBX5I7\")"
      ],
      "execution_count": 3,
      "outputs": [
        {
          "output_type": "stream",
          "name": "stdout",
          "text": [
            "Connecting to wss://anvil.works/uplink\n",
            "Anvil websocket open\n",
            "Connected to \"Default environment\" as SERVER\n"
          ]
        }
      ]
    },
    {
      "cell_type": "code",
      "metadata": {
        "id": "wpiMcKSAdeve",
        "colab": {
          "base_uri": "https://localhost:8080/"
        },
        "outputId": "4e94aff2-375d-41ab-d378-a5d64c0eee08"
      },
      "source": [
        "riya_model_3.predict([[1.0,0.61,3,188,4,0,0,1,0,0,0,0,0,1,0,0,0]])"
      ],
      "execution_count": 4,
      "outputs": [
        {
          "output_type": "stream",
          "name": "stderr",
          "text": [
            "/usr/local/lib/python3.10/dist-packages/sklearn/base.py:465: UserWarning: X does not have valid feature names, but RandomForestClassifier was fitted with feature names\n",
            "  warnings.warn(\n"
          ]
        },
        {
          "output_type": "execute_result",
          "data": {
            "text/plain": [
              "array([0])"
            ]
          },
          "metadata": {},
          "execution_count": 4
        }
      ]
    },
    {
      "cell_type": "code",
      "metadata": {
        "id": "fcOvXscdWNtV",
        "colab": {
          "base_uri": "https://localhost:8080/"
        },
        "outputId": "d42ef6bf-68db-4d50-b576-a8186f6e1696"
      },
      "source": [
        "riya_model_3.predict([[0.10,0.60,6,288,2,0,0,1,0,0,1,0,0,0,0,0,0]])"
      ],
      "execution_count": 5,
      "outputs": [
        {
          "output_type": "stream",
          "name": "stderr",
          "text": [
            "/usr/local/lib/python3.10/dist-packages/sklearn/base.py:465: UserWarning: X does not have valid feature names, but RandomForestClassifier was fitted with feature names\n",
            "  warnings.warn(\n"
          ]
        },
        {
          "output_type": "execute_result",
          "data": {
            "text/plain": [
              "array([1])"
            ]
          },
          "metadata": {},
          "execution_count": 5
        }
      ]
    },
    {
      "cell_type": "code",
      "metadata": {
        "id": "PAw1BKeooD6x"
      },
      "source": [
        "@anvil.server.callable\n",
        "\n",
        "def get_data(a,b,c,d,e,f,g,h,i):\n",
        "  if ( (int(d)<95 or int(d)>400) or (float(b)<0.1 or float(b)>1)  or (float(a)<0.1 or float(a)>1 )):\n",
        "    return (\"make sure your input are in range \\n Satisfaction_level = {0.1 - 1} \\n Last_evaluation = {0.1 - 1}\t\\n Average_montly_hours = {95 - 400}\")\n",
        "  else:\n",
        "    if h==\"technical\" :\n",
        "      score=riya_model_3.predict([[a,b,int(c),d,int(e),int(f),int(g),int(i),0,0,0,0,0,0,0,0,1]])\n",
        "    elif h==\"RandD\" :\n",
        "      score=riya_model_3.predict([[a,b,int(c),d,int(e),int(f),int(g),int(i),1,0,0,0,0,0,0,0,0]])\n",
        "    elif h==\"accounting\" :\n",
        "      score=riya_model_3.predict([[a,b,int(c),d,int(e),int(f),int(g),int(i),0,1,0,0,0,0,0,0,0]])\n",
        "    elif h==\"HR\" :\n",
        "      score=riya_model_3.predict([[a,b,int(c),d,int(e),int(f),int(g),int(i),0,0,1,0,0,0,0,0,0]])\n",
        "    elif h==\"management\" :\n",
        "      score=riya_model_3.predict([[a,b,int(c),d,int(e),int(f),int(g),int(i),0,0,0,1,0,0,0,0,0]])\n",
        "    elif h==\"marketing\":\n",
        "      score=riya_model_3.predict([[a,b,int(c),d,int(e),int(f),int(g),int(i),0,0,0,0,1,0,0,0,0]])\n",
        "    elif h==\"product_mng\":\n",
        "      score=riya_model_3.predict([[a,b,int(c),d,int(e),int(f),int(g),int(i),0,0,0,0,0,1,0,0,0]])\n",
        "    elif h==\"sales\" :\n",
        "      score=riya_model_3.predict([[a,b,int(c),d,int(e),int(f),int(g),int(i),0,0,0,0,0,0,1,0,0]])\n",
        "    elif h==\"support\":\n",
        "      score=riya_model_3.predict([[a,b,int(c),d,int(e),int(f),int(g),int(i),0,0,0,0,0,0,0,1,0]])\n",
        "    elif h==\"IT\":\n",
        "      score=riya_model_3.predict([[a,b,int(c),d,int(e),int(f),int(g),int(i),0,0,0,0,0,0,0,0,0]])\n",
        "    else:\n",
        "      score=7\n",
        "\n",
        "    result=score\n",
        "    if result==1:\n",
        "      return ('This employee will leave your Company [1]')\n",
        "    elif result==0:\n",
        "      return (\"This employee will not leave your Company [0]\")\n",
        "    elif result==7:\n",
        "      return (\"wrong input\")\n",
        "\n"
      ],
      "execution_count": 6,
      "outputs": []
    },
    {
      "cell_type": "code",
      "metadata": {
        "id": "mFz9aeroHvj3",
        "colab": {
          "base_uri": "https://localhost:8080/"
        },
        "outputId": "5628c467-2f0e-42b8-8db8-bc8e9134b706"
      },
      "source": [
        "@anvil.server.callable\n",
        "def get_data(a,b,c,d,e,f,g,h,i):\n",
        "\n",
        "  if h==\"technical\" :\n",
        "\n",
        "    score=riya_model_3.predict([[a,b,int(c),d,int(e),int(f),int(g),int(i),0,0,0,0,0,0,0,0,1]])\n",
        "  elif h==\"RandD\" :\n",
        "    score=riya_model_3.predict([[a,b,int(c),d,int(e),int(f),int(g),int(i),1,0,0,0,0,0,0,0,0]])\n",
        "  elif h==\"accounting\" :\n",
        "    score=riya_model_3.predict([[a,b,int(c),d,int(e),int(f),int(g),int(i),0,1,0,0,0,0,0,0,0]])\n",
        "  elif h==\"HR\" :\n",
        "    score=riya_model_3.predict([[a,b,int(c),d,int(e),int(f),int(g),int(i),0,0,1,0,0,0,0,0,0]])\n",
        "  elif h==\"management\" :\n",
        "    score=riya_model_3.predict([[a,b,int(c),d,int(e),int(f),int(g),int(i),0,0,0,1,0,0,0,0,0]])\n",
        "  elif h==\"marketing\":\n",
        "    score=riya_model_3.predict([[a,b,int(c),d,int(e),int(f),int(g),int(i),0,0,0,0,1,0,0,0,0]])\n",
        "  elif h==\"product_mng\":\n",
        "    score=riya_model_3.predict([[a,b,int(c),d,int(e),int(f),int(g),int(i),0,0,0,0,0,1,0,0,0]])\n",
        "  elif h==\"sales\" :\n",
        "    score=riya_model_3.predict([[a,b,int(c),d,int(e),int(f),int(g),int(i),0,0,0,0,0,0,1,0,0]])\n",
        "  elif h==\"support\":\n",
        "    score=riya_model_3.predict([[a,b,int(c),d,int(e),int(f),int(g),int(i),0,0,0,0,0,0,0,1,0]])\n",
        "  elif h==\"IT\":\n",
        "    score=riya_model_3.predict([[a,b,int(c),d,int(e),int(f),int(g),int(i),0,0,0,0,0,0,0,0,0]])\n",
        "  else:\n",
        "    score=7\n",
        "\n",
        "  result=score\n",
        "  if result==1:\n",
        "    return ('This employee will leave your Company [1]')\n",
        "  elif result==0:\n",
        "    return (\"This employee will not leave your Company [0]\")\n",
        "  elif result==7:\n",
        "    return (\"wrong input\")\n",
        "\n",
        "\n",
        " ## print(f\"Hello from your own machine, {name}!\")\n",
        " # return ('This employee will leave your Company' if score==1 else'This employee will not leave your Company ' )"
      ],
      "execution_count": 7,
      "outputs": [
        {
          "output_type": "stream",
          "name": "stdout",
          "text": [
            "Warning: a callable with the name 'get_data' has already been registered (previously by '__main__.get_data' now by '__main__.get_data').\n"
          ]
        }
      ]
    }
  ]
}